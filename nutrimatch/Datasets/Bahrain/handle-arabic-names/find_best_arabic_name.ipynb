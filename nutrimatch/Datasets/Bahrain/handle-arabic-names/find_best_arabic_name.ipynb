{
 "cells": [
  {
   "cell_type": "code",
   "execution_count": 26,
   "metadata": {},
   "outputs": [],
   "source": [
    "file_path = \"s3://datasets-development/diet/dataset_alignment/Bahrain/RawData/Bahrain Food Registry.xlsx\"\n",
    "\n",
    "from dotenv import load_dotenv\n",
    "import os\n",
    "load_dotenv()\n",
    "\n",
    "api_key = os.getenv(\"OPENAI_API_KEY\")"
   ]
  },
  {
   "cell_type": "code",
   "execution_count": 27,
   "metadata": {},
   "outputs": [],
   "source": [
    "import pandas as pd\n",
    "from pydantic import BaseModel, field_validator, Field, model_validator, ValidationInfo\n",
    "from typing import Annotated\n",
    "class FoodItem:\n",
    "    \"\"\"\n",
    "    A class representing a food item in the Bahrain Food Registry.\n",
    "    \"\"\"\n",
    "\n",
    "    def __init__(self, row: pd.Series):\n",
    "        self.id: int = row['id']\n",
    "        self.name: str = row['food']\n",
    "        self.category: str = row['food_category']\n",
    "        self.sub_category: str = row['food_subcategory']\n",
    "        self.local_name: str = row['local_name']\n",
    "        self.scientific_name: str = row['scientific_name']\n",
    "        self.arabic_names: list[str] = [row['arabic_name_1'], row['arabic_name_2'], row['arabic_name_3'], row['arabic_name_4']]\n",
    "        self.arabic_names = [name for name in self.arabic_names if name]\n",
    "    \n",
    "\n",
    "    def __str__(self):\n",
    "        \"\"\"\n",
    "        Returns a string representation of the food item.\n",
    "        \"\"\"\n",
    "        include = ['id', 'name', 'category', 'sub_category', 'local_name', 'scientific_name', 'arabic_names']\n",
    "        # return for each property its name and value only if the value is not empty\n",
    "        return '\\n'.join([f'{prop}: {getattr(self, prop)}' for prop in include if getattr(self, prop)])\n",
    "\n",
    "class FoodItemNameEvaluation(BaseModel):\n",
    "    # food_item: FoodItem\n",
    "    id: int = Field(..., description='The id of the food item in the Bahrain Food Registry.')\n",
    "    best_arabic_name: str = Field(..., description='The best Arabic name for the food item from the given options.')\n",
    "    gpt_arabic_name: Annotated[str, None] = Field(..., description='Your own Arabic name for the food item.')\n",
    "\n",
    "    \n",
    "    @model_validator(mode=\"after\")\n",
    "    def validate_arabic_names(self, info: ValidationInfo):\n",
    "        context = info.context\n",
    "        if context:\n",
    "            names: list[str] = context['arabic_names']\n",
    "            if self.best_arabic_name not in names:\n",
    "                raise ValueError(f'The best Arabic name must be one of the following: {names}')\n",
    "        return self\n",
    "\n"
   ]
  },
  {
   "cell_type": "code",
   "execution_count": 28,
   "metadata": {},
   "outputs": [],
   "source": [
    "\n",
    "def df2FoodItems(df: pd.DataFrame) -> list[FoodItem]:\n",
    "    \"\"\"\n",
    "    Loads the Bahrain Food Registry from the given file path.\n",
    "    \"\"\"\n",
    "    return [FoodItem(row) for _, row in df.iterrows()]\n"
   ]
  },
  {
   "cell_type": "code",
   "execution_count": 29,
   "metadata": {},
   "outputs": [],
   "source": [
    "import instructor\n",
    "from openai import AsyncOpenAI\n",
    "\n",
    "# Initialize the instructor client\n",
    "client = instructor.from_openai(AsyncOpenAI(api_key=api_key))\n",
    "\n",
    "async def find_best_arabic_name_single_request(food_item: FoodItem) -> FoodItem:\n",
    "    # Define the prompt for the system\n",
    "    system_prompt = \"\"\"You are given a list of food items from the Bahrain Food Registry.\n",
    "For each item, you need to find the best Arabic name from the list of Arabic names provided.\n",
    "The best Arabic name is the one that is most likely to be used by Arabic speakers in Bahrain and best matches the description of the food item (name, category...).\n",
    "You can also add a new Arabic name if you think it is more suitable than the ones provided.\n",
    "\"\"\"\n",
    "    # Define the prompt for the user\n",
    "    user_prompt = f\"\"\"Please choose the best Arabic name for the following food item:\n",
    "    {str(food_item)}\"\"\"\n",
    "\n",
    "    return await client.chat.completions.create(\n",
    "        model=\"gpt-4o\",\n",
    "        response_model=FoodItemNameEvaluation,\n",
    "        validation_context={\"arabic_names\": food_item.arabic_names},\n",
    "        max_retries=3,\n",
    "        messages=[\n",
    "            {\n",
    "                \"role\": \"system\",\n",
    "                \"content\": system_prompt\n",
    "            },\n",
    "            {\n",
    "                \"role\": \"user\",\n",
    "                \"content\": user_prompt\n",
    "            }\n",
    "        ]\n",
    "    )\n"
   ]
  },
  {
   "cell_type": "code",
   "execution_count": 30,
   "metadata": {},
   "outputs": [],
   "source": [
    "\n",
    "import asyncio\n",
    "\n",
    "async def run_parallel(items: list[FoodItem]) -> list[FoodItemNameEvaluation]:\n",
    "    \"\"\"\n",
    "    Run the system in parallel for multiple food items.\n",
    "    \"\"\"\n",
    "    return await asyncio.gather(\n",
    "        *[find_best_arabic_name_single_request(item) for item in items]\n",
    "    )\n",
    "\n",
    "    "
   ]
  },
  {
   "cell_type": "code",
   "execution_count": 31,
   "metadata": {},
   "outputs": [],
   "source": [
    "bahrain_df = pd.read_excel(file_path, keep_default_na=False)\n",
    "\n",
    "food_registry = df2FoodItems(bahrain_df)\n",
    "\n",
    "evaluations = await run_parallel(food_registry)\n",
    "\n",
    "# Set the gpt arabic name for each of the food items in the df\n",
    "for evaluation in evaluations:\n",
    "    bahrain_df.loc[bahrain_df['id'] == evaluation.id, 'arabic_name'] = evaluation.gpt_arabic_name\n"
   ]
  },
  {
   "cell_type": "code",
   "execution_count": 32,
   "metadata": {},
   "outputs": [],
   "source": [
    "# Save the updated df to a new file\n",
    "bahrain_df.to_excel(\"s3://datasets-development/diet/dataset_alignment/Bahrain/RawData/bahrain_food_registry_with_arabic_name.xlsx\", index=False)"
   ]
  }
 ],
 "metadata": {
  "kernelspec": {
   "display_name": ".venv",
   "language": "python",
   "name": "python3"
  },
  "language_info": {
   "codemirror_mode": {
    "name": "ipython",
    "version": 3
   },
   "file_extension": ".py",
   "mimetype": "text/x-python",
   "name": "python",
   "nbconvert_exporter": "python",
   "pygments_lexer": "ipython3",
   "version": "3.12.3"
  }
 },
 "nbformat": 4,
 "nbformat_minor": 2
}
